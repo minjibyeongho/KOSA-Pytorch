{
  "nbformat": 4,
  "nbformat_minor": 5,
  "metadata": {
    "kernelspec": {
      "display_name": "Python SDF",
      "language": "python",
      "name": "sdf"
    },
    "language_info": {
      "codemirror_mode": {
        "name": "ipython",
        "version": 3
      },
      "file_extension": ".py",
      "mimetype": "text/x-python",
      "name": "python",
      "nbconvert_exporter": "python",
      "pygments_lexer": "ipython3",
      "version": "3.8.3"
    },
    "colab": {
      "name": "1-linear.ipynb",
      "provenance": [],
      "include_colab_link": true
    },
    "accelerator": "GPU"
  },
  "cells": [
    {
      "cell_type": "markdown",
      "metadata": {
        "id": "view-in-github",
        "colab_type": "text"
      },
      "source": [
        "<a href=\"https://colab.research.google.com/github/minjibyeongho/KOSA-Pytorch/blob/main/1_linear.ipynb\" target=\"_parent\"><img src=\"https://colab.research.google.com/assets/colab-badge.svg\" alt=\"Open In Colab\"/></a>"
      ]
    },
    {
      "cell_type": "code",
      "metadata": {
        "id": "zL-eyY86VjZd"
      },
      "source": [
        "import torch"
      ],
      "id": "zL-eyY86VjZd",
      "execution_count": null,
      "outputs": []
    },
    {
      "cell_type": "code",
      "metadata": {
        "id": "N1naNYszVqUs"
      },
      "source": [
        "x = torch.randn(2,3)"
      ],
      "id": "N1naNYszVqUs",
      "execution_count": null,
      "outputs": []
    },
    {
      "cell_type": "code",
      "metadata": {
        "id": "vVrooF1PV3Hj"
      },
      "source": [
        "y = torch.rand(2,3)"
      ],
      "id": "vVrooF1PV3Hj",
      "execution_count": null,
      "outputs": []
    },
    {
      "cell_type": "code",
      "metadata": {
        "id": "mQGKHsX1Wbd7"
      },
      "source": [
        "a = x.to('cuda')"
      ],
      "id": "mQGKHsX1Wbd7",
      "execution_count": null,
      "outputs": []
    },
    {
      "cell_type": "code",
      "metadata": {
        "id": "epkYMYhgV7uM"
      },
      "source": [
        "#python"
      ],
      "id": "epkYMYhgV7uM",
      "execution_count": null,
      "outputs": []
    },
    {
      "cell_type": "code",
      "metadata": {
        "id": "canadian-racing"
      },
      "source": [
        "# Y = Wx + b\n",
        "# input: 10 Ouput: 5 Linear Transform"
      ],
      "id": "canadian-racing",
      "execution_count": null,
      "outputs": []
    },
    {
      "cell_type": "code",
      "metadata": {
        "id": "electrical-taxation"
      },
      "source": [
        "import torch\n",
        "from torch.autograd import Variable\n",
        "from torch.nn import Linear\n",
        "\n",
        "data = Variable(torch.randn(1, 10))\n",
        "Layer =Linear(in_features=10, out_features=5, bias=True)"
      ],
      "id": "electrical-taxation",
      "execution_count": 1,
      "outputs": []
    },
    {
      "cell_type": "code",
      "metadata": {
        "id": "_CM3zlkXr1v-",
        "outputId": "b0081fb7-cb9d-433d-8204-40847b2f9e09",
        "colab": {
          "base_uri": "https://localhost:8080/"
        }
      },
      "source": [
        "data"
      ],
      "id": "_CM3zlkXr1v-",
      "execution_count": 2,
      "outputs": [
        {
          "output_type": "execute_result",
          "data": {
            "text/plain": [
              "tensor([[-1.0727e-01,  1.3842e-03, -6.8433e-01, -1.9900e+00,  6.4010e-01,\n",
              "         -1.4556e+00,  2.9070e-01, -4.2521e-01,  4.6067e-01, -2.1953e-01]])"
            ]
          },
          "metadata": {
            "tags": []
          },
          "execution_count": 2
        }
      ]
    },
    {
      "cell_type": "code",
      "metadata": {
        "id": "german-sherman",
        "outputId": "22382430-1c04-4b4d-d2af-119e1ae02f09",
        "colab": {
          "base_uri": "https://localhost:8080/"
        }
      },
      "source": [
        "Layer(data)"
      ],
      "id": "german-sherman",
      "execution_count": 3,
      "outputs": [
        {
          "output_type": "execute_result",
          "data": {
            "text/plain": [
              "tensor([[ 0.2283, -0.4164,  0.2959, -0.0462, -0.8715]],\n",
              "       grad_fn=<AddmmBackward>)"
            ]
          },
          "metadata": {
            "tags": []
          },
          "execution_count": 3
        }
      ]
    },
    {
      "cell_type": "code",
      "metadata": {
        "id": "surprised-smart"
      },
      "source": [
        ""
      ],
      "id": "surprised-smart",
      "execution_count": null,
      "outputs": []
    },
    {
      "cell_type": "code",
      "metadata": {
        "id": "hindu-freight",
        "outputId": "88581bcf-faf9-45d7-c986-ebdd2733df91",
        "colab": {
          "base_uri": "https://localhost:8080/"
        }
      },
      "source": [
        "Layer.weight"
      ],
      "id": "hindu-freight",
      "execution_count": 4,
      "outputs": [
        {
          "output_type": "execute_result",
          "data": {
            "text/plain": [
              "Parameter containing:\n",
              "tensor([[-0.2323,  0.1153, -0.2637, -0.1299, -0.2839,  0.0840,  0.2670,  0.1083,\n",
              "         -0.2213,  0.1851],\n",
              "        [ 0.1939, -0.1476, -0.1677,  0.3081,  0.2739, -0.0144, -0.1872, -0.2238,\n",
              "         -0.0259, -0.2537],\n",
              "        [-0.2391, -0.2466, -0.3141,  0.1033, -0.2071, -0.1282, -0.0125, -0.0132,\n",
              "         -0.2040,  0.0666],\n",
              "        [ 0.0338,  0.2634,  0.2998,  0.2650,  0.1322, -0.1855,  0.2477,  0.1618,\n",
              "          0.3002,  0.1203],\n",
              "        [ 0.0346,  0.2706,  0.3125,  0.2399, -0.1779,  0.0744, -0.1356, -0.2671,\n",
              "          0.0119, -0.3092]], requires_grad=True)"
            ]
          },
          "metadata": {
            "tags": []
          },
          "execution_count": 4
        }
      ]
    },
    {
      "cell_type": "code",
      "metadata": {
        "id": "leading-liberty",
        "outputId": "50f71f6b-8382-473a-dcc0-ca2cc3c27875",
        "colab": {
          "base_uri": "https://localhost:8080/"
        }
      },
      "source": [
        "Layer.bias"
      ],
      "id": "leading-liberty",
      "execution_count": 5,
      "outputs": [
        {
          "output_type": "execute_result",
          "data": {
            "text/plain": [
              "Parameter containing:\n",
              "tensor([ 0.1794, -0.1779,  0.3137,  0.2199, -0.1022], requires_grad=True)"
            ]
          },
          "metadata": {
            "tags": []
          },
          "execution_count": 5
        }
      ]
    },
    {
      "cell_type": "code",
      "metadata": {
        "id": "great-emergency"
      },
      "source": [
        ""
      ],
      "id": "great-emergency",
      "execution_count": null,
      "outputs": []
    },
    {
      "cell_type": "code",
      "metadata": {
        "id": "cross-think"
      },
      "source": [
        "# Activation Function -> ReLu"
      ],
      "id": "cross-think",
      "execution_count": null,
      "outputs": []
    },
    {
      "cell_type": "code",
      "metadata": {
        "id": "scheduled-boston"
      },
      "source": [
        "from torch.nn import ReLU\n",
        "import torch"
      ],
      "id": "scheduled-boston",
      "execution_count": 6,
      "outputs": []
    },
    {
      "cell_type": "code",
      "metadata": {
        "id": "automated-horizon"
      },
      "source": [
        "data = torch.Tensor([[3, 1, 2, -1, -3]])"
      ],
      "id": "automated-horizon",
      "execution_count": 7,
      "outputs": []
    },
    {
      "cell_type": "code",
      "metadata": {
        "id": "early-variation",
        "outputId": "e0fbbf76-401a-4c03-9f4d-8d8d76e85951",
        "colab": {
          "base_uri": "https://localhost:8080/"
        }
      },
      "source": [
        "relu = ReLU()\n",
        "relu(data)"
      ],
      "id": "early-variation",
      "execution_count": 8,
      "outputs": [
        {
          "output_type": "execute_result",
          "data": {
            "text/plain": [
              "tensor([[3., 1., 2., 0., 0.]])"
            ]
          },
          "metadata": {
            "tags": []
          },
          "execution_count": 8
        }
      ]
    },
    {
      "cell_type": "code",
      "metadata": {
        "id": "divided-doctrine"
      },
      "source": [
        ""
      ],
      "id": "divided-doctrine",
      "execution_count": null,
      "outputs": []
    },
    {
      "cell_type": "code",
      "metadata": {
        "id": "nervous-plymouth"
      },
      "source": [
        "# Feedforward & Back Propagation\n",
        "# https://blog.naver.com/slykid/222007253786"
      ],
      "id": "nervous-plymouth",
      "execution_count": null,
      "outputs": []
    },
    {
      "cell_type": "code",
      "metadata": {
        "id": "southwest-replacement"
      },
      "source": [
        "import torch\n",
        "from torch import nn\n",
        "from torch.autograd import Variable"
      ],
      "id": "southwest-replacement",
      "execution_count": 9,
      "outputs": []
    },
    {
      "cell_type": "code",
      "metadata": {
        "id": "narrative-onion"
      },
      "source": [
        "class Network_ex(nn.Module):\n",
        "    def __init__(self, input_size, hidden_size, output_size):\n",
        "        super(Network_ex).__init__()\n",
        "        self.layer1 = nn.Linear(input_size, hidden_size)\n",
        "        self.layer2 = nn.Linear(hidden_size, output_size)\n",
        "        \n",
        "    def forward(self, input):\n",
        "        out = self.Layer1(input)\n",
        "        out = nn.ReLU(out)\n",
        "        out = self.layer2(out)\n",
        "        \n",
        "        return out"
      ],
      "id": "narrative-onion",
      "execution_count": 11,
      "outputs": []
    },
    {
      "cell_type": "code",
      "metadata": {
        "id": "dangerous-dietary"
      },
      "source": [
        "loss = nn.MSELoss()\n",
        "data = Variable(torch.randn(3, 5), requires_grad=True)"
      ],
      "id": "dangerous-dietary",
      "execution_count": 12,
      "outputs": []
    },
    {
      "cell_type": "code",
      "metadata": {
        "id": "departmental-roberts",
        "outputId": "64ab066e-c2a4-4697-b7df-3aeed02e8d01",
        "colab": {
          "base_uri": "https://localhost:8080/"
        }
      },
      "source": [
        "data"
      ],
      "id": "departmental-roberts",
      "execution_count": 13,
      "outputs": [
        {
          "output_type": "execute_result",
          "data": {
            "text/plain": [
              "tensor([[ 0.1355, -1.5169,  1.3240, -0.4665,  0.7517],\n",
              "        [ 0.2055,  0.3371,  0.8541, -2.8851, -0.4420],\n",
              "        [-0.3627,  1.4916, -0.3071,  0.3949, -0.9249]], requires_grad=True)"
            ]
          },
          "metadata": {
            "tags": []
          },
          "execution_count": 13
        }
      ]
    },
    {
      "cell_type": "code",
      "metadata": {
        "id": "adopted-zambia"
      },
      "source": [
        "target = Variable(torch.randn(3, 5))"
      ],
      "id": "adopted-zambia",
      "execution_count": 15,
      "outputs": []
    },
    {
      "cell_type": "code",
      "metadata": {
        "id": "interested-efficiency",
        "outputId": "bef4efb3-8586-494c-8e06-0864f3e77c21",
        "colab": {
          "base_uri": "https://localhost:8080/"
        }
      },
      "source": [
        "target"
      ],
      "id": "interested-efficiency",
      "execution_count": 16,
      "outputs": [
        {
          "output_type": "execute_result",
          "data": {
            "text/plain": [
              "tensor([[-0.0628,  1.2125, -0.9346, -0.1303, -0.3487],\n",
              "        [-0.9802,  0.8536,  1.4952,  0.5643, -1.4151],\n",
              "        [ 0.1242, -0.9944,  0.2274, -0.1031, -2.1872]])"
            ]
          },
          "metadata": {
            "tags": []
          },
          "execution_count": 16
        }
      ]
    },
    {
      "cell_type": "code",
      "metadata": {
        "id": "confident-photography"
      },
      "source": [
        "output = loss(data, target)\n",
        "output.backward()"
      ],
      "id": "confident-photography",
      "execution_count": 17,
      "outputs": []
    },
    {
      "cell_type": "code",
      "metadata": {
        "id": "chronic-elimination",
        "outputId": "c3e8f686-22d7-45a0-d910-da9d5922dad0",
        "colab": {
          "base_uri": "https://localhost:8080/"
        }
      },
      "source": [
        "output"
      ],
      "id": "chronic-elimination",
      "execution_count": 18,
      "outputs": [
        {
          "output_type": "execute_result",
          "data": {
            "text/plain": [
              "tensor(2.4925, grad_fn=<MseLossBackward>)"
            ]
          },
          "metadata": {
            "tags": []
          },
          "execution_count": 18
        }
      ]
    }
  ]
}